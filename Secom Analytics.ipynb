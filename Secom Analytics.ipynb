{
 "cells": [
  {
   "cell_type": "code",
   "execution_count": 1,
   "id": "e161ed60",
   "metadata": {},
   "outputs": [],
   "source": [
    "# 필요한 라이브러리 로드\n",
    "import pandas as pd\n",
    "import numpy as np\n",
    "from sklearn.impute import KNNImputer"
   ]
  },
  {
   "cell_type": "code",
   "execution_count": 2,
   "id": "37bee791",
   "metadata": {},
   "outputs": [],
   "source": [
    "# 원본 데이터\n",
    "raw_data = pd.read_csv(\"uci-secom.csv\")"
   ]
  },
  {
   "cell_type": "code",
   "execution_count": 3,
   "id": "c35a5147",
   "metadata": {},
   "outputs": [
    {
     "data": {
      "text/plain": [
       "(1567, 273)"
      ]
     },
     "execution_count": 3,
     "metadata": {},
     "output_type": "execute_result"
    }
   ],
   "source": [
    "# 데이터 크기 확인\n",
    "data_count = raw_data.shape[0]\n",
    "\n",
    "# 시계열 특성 데이터라고 가정하지 않으므로 Time 속성 제거\n",
    "shrinked_data = raw_data.drop([\"Time\"], axis=1)\n",
    "\n",
    "# 전체의 50% 이상이 null 값을 가진 특성 제거\n",
    "shrinked_data = shrinked_data.loc[:, (raw_data.isna().sum(axis=0) <= data_count * 0.5)]\n",
    "\n",
    "# 특성의 모든 값이 상수를 가진 특성을 제거\n",
    "shrinked_data = shrinked_data.loc[:, (raw_data.var(axis=0) != 0)]\n",
    "\n",
    "# 종속 변수와 독립 변수를 분리\n",
    "cause_matrix = shrinked_data.drop([\"Pass/Fail\"], axis=1)\n",
    "\n",
    "# 독립 변수끼리의 상관 관계가 높은 항목을 제거\n",
    "corr_matrix = cause_matrix.corr().abs()\n",
    "upper = corr_matrix.where(np.triu(np.ones(corr_matrix.shape), k=1).astype(bool))\n",
    "to_drop = [column for column in upper.columns if any(upper[column] > 0.95)]\n",
    "\n",
    "shrinked_data.drop(to_drop, axis=1, inplace=True)\n",
    "\n",
    "shrinked_data.shape"
   ]
  },
  {
   "cell_type": "code",
   "execution_count": 5,
   "id": "ff5a8893",
   "metadata": {},
   "outputs": [],
   "source": [
    "# K개의 이웃을 통해 결측치를 예측\n",
    "imputer = KNNImputer(n_neighbors=5)\n",
    "imputed_data = pd.DataFrame(imputer.fit_transform(shrinked_data),columns = shrinked_data.columns)"
   ]
  },
  {
   "cell_type": "code",
   "execution_count": 6,
   "id": "5d4634a7",
   "metadata": {},
   "outputs": [
    {
     "data": {
      "text/plain": [
       "0            False\n",
       "1            False\n",
       "2            False\n",
       "3            False\n",
       "4            False\n",
       "             ...  \n",
       "583          False\n",
       "586          False\n",
       "587          False\n",
       "589          False\n",
       "Pass/Fail    False\n",
       "Length: 273, dtype: bool"
      ]
     },
     "execution_count": 6,
     "metadata": {},
     "output_type": "execute_result"
    }
   ],
   "source": [
    "imputed_data.isna().any()"
   ]
  },
  {
   "cell_type": "code",
   "execution_count": null,
   "id": "419cae5b",
   "metadata": {},
   "outputs": [],
   "source": []
  }
 ],
 "metadata": {
  "kernelspec": {
   "display_name": "Python 3",
   "language": "python",
   "name": "python3"
  },
  "language_info": {
   "codemirror_mode": {
    "name": "ipython",
    "version": 3
   },
   "file_extension": ".py",
   "mimetype": "text/x-python",
   "name": "python",
   "nbconvert_exporter": "python",
   "pygments_lexer": "ipython3",
   "version": "3.9.5"
  }
 },
 "nbformat": 4,
 "nbformat_minor": 5
}
