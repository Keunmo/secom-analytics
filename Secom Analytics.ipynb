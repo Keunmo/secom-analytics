{
 "cells": [
  {
   "cell_type": "code",
   "execution_count": 1,
   "id": "e161ed60",
   "metadata": {},
   "outputs": [],
   "source": [
    "# 필요한 라이브러리 로드\n",
    "import pandas as pd\n",
    "import numpy as np\n",
    "from sklearn.impute import KNNImputer\n",
    "from sklearn.preprocessing import StandardScaler"
   ]
  },
  {
   "cell_type": "code",
   "execution_count": 2,
   "id": "37bee791",
   "metadata": {},
   "outputs": [],
   "source": [
    "# 원본 데이터\n",
    "raw_data = pd.read_csv(\"uci-secom.csv\")"
   ]
  },
  {
   "cell_type": "code",
   "execution_count": 3,
   "id": "c35a5147",
   "metadata": {},
   "outputs": [
    {
     "data": {
      "text/plain": [
       "(1567, 272)"
      ]
     },
     "execution_count": 3,
     "metadata": {},
     "output_type": "execute_result"
    }
   ],
   "source": [
    "# 데이터 크기 확인\n",
    "data_count = raw_data.shape[0]\n",
    "\n",
    "# 종속 변수\n",
    "result = raw_data[\"Pass/Fail\"]\n",
    "# 시계열 특성 데이터라고 가정하지 않으므로 Time 속성 제거\n",
    "shrinked_data = raw_data.drop([\"Time\"], axis=1)\n",
    "shrinked_data = shrinked_data.drop([\"Pass/Fail\"], axis=1)\n",
    "\n",
    "# 전체의 50% 이상이 null 값을 가진 특성 제거\n",
    "shrinked_data = shrinked_data.loc[:, (raw_data.isna().sum(axis=0) <= data_count * 0.5)]\n",
    "\n",
    "# 특성의 모든 값이 상수를 가진 특성을 제거\n",
    "shrinked_data = shrinked_data.loc[:, (raw_data.var(axis=0) != 0)]\n",
    "\n",
    "# 독립 변수끼리의 상관 관계가 높은 항목을 제거\n",
    "corr_matrix = shrinked_data.corr().abs()\n",
    "upper = corr_matrix.where(np.triu(np.ones(corr_matrix.shape), k=1).astype(bool))\n",
    "to_drop = [column for column in upper.columns if any(upper[column] > 0.95)]\n",
    "\n",
    "shrinked_data.drop(to_drop, axis=1, inplace=True)\n",
    "\n",
    "shrinked_data.shape"
   ]
  },
  {
   "cell_type": "code",
   "execution_count": 4,
   "id": "ff5a8893",
   "metadata": {},
   "outputs": [],
   "source": [
    "# K개의 이웃을 통해 결측치를 예측\n",
    "imputer = KNNImputer(n_neighbors=5)\n",
    "imputed_data = pd.DataFrame(imputer.fit_transform(shrinked_data),columns = shrinked_data.columns)"
   ]
  },
  {
   "cell_type": "code",
   "execution_count": 5,
   "id": "5d4634a7",
   "metadata": {},
   "outputs": [],
   "source": [
    "# 각 특성의 스케일을 맞춤\n",
    "scaled_data = pd.DataFrame(StandardScaler().fit_transform(imputed_data))"
   ]
  },
  {
   "cell_type": "code",
   "execution_count": 6,
   "id": "419cae5b",
   "metadata": {},
   "outputs": [
    {
     "name": "stdout",
     "output_type": "stream",
     "text": [
      "SMOTE 적용 전 학습용 피처/레이블 데이터 세트:  (1175, 272) (1175,)\n",
      "SMOTE 적용 후 학습용 피처/레이블 데이터 세트:  (2196, 272) (2196,)\n",
      "SMOTE 적용 후 레이블 값 분포: \n",
      " -1    1098\n",
      " 1    1098\n",
      "Name: Pass/Fail, dtype: int64\n"
     ]
    }
   ],
   "source": [
    "# PCA\n",
    "# SMOTE\n",
    "from imblearn.over_sampling import SMOTE\n",
    "from sklearn.model_selection import train_test_split\n",
    "smote = SMOTE(random_state=0)\n",
    "X_train, X_test, y_train, y_test = train_test_split(scaled_data, result,test_size=0.25,random_state=10)\n",
    "X_train_over,y_train_over = smote.fit_resample(X_train, y_train)\n",
    "print('SMOTE 적용 전 학습용 피처/레이블 데이터 세트: ', X_train.shape, y_train.shape)\n",
    "print('SMOTE 적용 후 학습용 피처/레이블 데이터 세트: ', X_train_over.shape, y_train_over.shape)\n",
    "print('SMOTE 적용 후 레이블 값 분포: \\n', pd.Series(y_train_over).value_counts())"
   ]
  },
  {
   "cell_type": "code",
   "execution_count": 7,
   "id": "e66577df",
   "metadata": {},
   "outputs": [
    {
     "data": {
      "text/plain": [
       "LogisticRegression(max_iter=500)"
      ]
     },
     "execution_count": 7,
     "metadata": {},
     "output_type": "execute_result"
    }
   ],
   "source": [
    "from sklearn.linear_model import LogisticRegression\n",
    "\n",
    "model = LogisticRegression(max_iter=500)\n",
    "model.fit(X_train_over, y_train_over)"
   ]
  },
  {
   "cell_type": "code",
   "execution_count": 8,
   "id": "c14b73d9",
   "metadata": {},
   "outputs": [
    {
     "data": {
      "text/plain": [
       "0.21333333333333335"
      ]
     },
     "execution_count": 8,
     "metadata": {},
     "output_type": "execute_result"
    }
   ],
   "source": [
    "from sklearn.metrics import f1_score\n",
    "\n",
    "prediction = model.predict(X_test)\n",
    "f1_score(y_test, prediction)"
   ]
  },
  {
   "cell_type": "code",
   "execution_count": null,
   "id": "53630111",
   "metadata": {},
   "outputs": [],
   "source": []
  }
 ],
 "metadata": {
  "kernelspec": {
   "display_name": "Python 3",
   "language": "python",
   "name": "python3"
  },
  "language_info": {
   "codemirror_mode": {
    "name": "ipython",
    "version": 3
   },
   "file_extension": ".py",
   "mimetype": "text/x-python",
   "name": "python",
   "nbconvert_exporter": "python",
   "pygments_lexer": "ipython3",
   "version": "3.7.10"
  },
  "toc": {
   "base_numbering": 1,
   "nav_menu": {},
   "number_sections": true,
   "sideBar": true,
   "skip_h1_title": false,
   "title_cell": "Table of Contents",
   "title_sidebar": "Contents",
   "toc_cell": false,
   "toc_position": {},
   "toc_section_display": true,
   "toc_window_display": false
  }
 },
 "nbformat": 4,
 "nbformat_minor": 5
}
